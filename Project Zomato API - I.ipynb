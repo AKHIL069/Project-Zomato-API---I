{
 "cells": [
  {
   "cell_type": "markdown",
   "id": "821159bf",
   "metadata": {},
   "source": [
    "https://app.swaggerhub.com/apis-docs/Vivek-Raj/zomato-api/1.0.0"
   ]
  },
  {
   "cell_type": "markdown",
   "id": "08c1f98c",
   "metadata": {},
   "source": [
    "# Problem 1"
   ]
  },
  {
   "cell_type": "markdown",
   "id": "43f05aee",
   "metadata": {},
   "source": [
    "Mexican cuisine began about 9,000 years ago, when agricultural communities such as the Maya formed, domesticating maize, creating the standard process of corn nixtamalization, and establishing their foodways."
   ]
  },
  {
   "cell_type": "markdown",
   "id": "942dbdd1",
   "metadata": {},
   "source": [
    "You are a huge fan of ‘Mexican’ cuisine. Now using the Zomato API you want to analyse the best restaurant serving the Mexican Cuisine, their locations, and cost for two, etc."
   ]
  },
  {
   "cell_type": "markdown",
   "id": "bbbfc878",
   "metadata": {},
   "source": [
    "There is a list of questions related to Mexican cuisines given in the next section."
   ]
  },
  {
   "cell_type": "markdown",
   "id": "f08816c2",
   "metadata": {},
   "source": [
    "# Question : "
   ]
  },
  {
   "cell_type": "markdown",
   "id": "d8667694",
   "metadata": {},
   "source": [
    "Fetch the cuisine_id of ‘Mexican’ cuisine using Zomato API.\n",
    "Print the cuisine_id."
   ]
  },
  {
   "cell_type": "code",
   "execution_count": 1,
   "id": "8badaa62",
   "metadata": {},
   "outputs": [
    {
     "name": "stdout",
     "output_type": "stream",
     "text": [
      "73\n"
     ]
    }
   ],
   "source": [
    "import requests\n",
    "user_key='0ab9b3ea3b2aa96bf4b2843fb711a48f'\n",
    "basic_api='https://developers.zomato.com/api/v2.1'\n",
    "params={'city_id':2}\n",
    "header={\"User-agent\": \"curl/7.43.0\",'Accept': 'application/json','user-key':user_key}\n",
    "response=requests.get(basic_api+'/cuisines',headers=header,params=params)\n",
    "cuisine_id=0\n",
    "for i in response.json().get('cuisines'):\n",
    "    if(i.get('cuisine').get('cuisine_name')=='Mexican'):\n",
    "        cuisine_id=i.get('cuisine').get('cuisine_id')\n",
    "print(cuisine_id)"
   ]
  },
  {
   "cell_type": "markdown",
   "id": "246d298e",
   "metadata": {},
   "source": [
    "# Question : "
   ]
  },
  {
   "cell_type": "markdown",
   "id": "c40ab76a",
   "metadata": {},
   "source": [
    "Fetch the entityid and entitytype of place Connaught Place.\n",
    "Print the entityid and entitytype,"
   ]
  },
  {
   "cell_type": "code",
   "execution_count": 2,
   "id": "85fb534a",
   "metadata": {},
   "outputs": [
    {
     "name": "stdout",
     "output_type": "stream",
     "text": [
      "subzone 104\n"
     ]
    }
   ],
   "source": [
    "import requests\n",
    "user_key='0ab9b3ea3b2aa96bf4b2843fb711a48f'\n",
    "basic_api='https://developers.zomato.com/api/v2.1'\n",
    "params={'query':'Connaught'}\n",
    "header={\"User-agent\": \"curl/7.43.0\",'Accept': 'application/json','user-key':user_key}\n",
    "response=requests.get(basic_api+'/locations',headers=header,params=params)\n",
    "cuisine_id=0\n",
    "py=response.json()\n",
    "for i in py['location_suggestions']:\n",
    "    print(i['entity_type'],end=' ')\n",
    "    print(i['entity_id'])"
   ]
  },
  {
   "cell_type": "markdown",
   "id": "f363ec16",
   "metadata": {},
   "source": [
    "# Question :"
   ]
  },
  {
   "cell_type": "markdown",
   "id": "867da6ad",
   "metadata": {},
   "source": [
    "Fetch the top 10 best-rated restaurant serving ‘Mexican’ cuisine present in Connaught Place.\n",
    "Print the restaurant name, user rating and restaurant id."
   ]
  },
  {
   "cell_type": "code",
   "execution_count": 3,
   "id": "ba7415f6",
   "metadata": {},
   "outputs": [
    {
     "name": "stdout",
     "output_type": "stream",
     "text": [
      "La MexiCanada 4.9 16658987\n",
      "Del Norte 4.9 17656346\n",
      "Mi Tierra Restaurante Mexicano 4.9 17438321\n",
      "The Green Ant Cantina 4.9 16614411\n",
      "La Tarasca 4.9 17563040\n",
      "Lola's Kitchen 4.9 17629700\n",
      "Jardin Del Rey 4.9 16915385\n",
      "Los Pinos Mexican 4.9 16913187\n",
      "Mary's Cafe 4.9 17654751\n",
      "Two Amigos Tacqueria 4.9 16950792\n"
     ]
    }
   ],
   "source": [
    "import requests\n",
    "user_key='0ab9b3ea3b2aa96bf4b2843fb711a48f'\n",
    "basic_api='https://developers.zomato.com/api/v2.1'\n",
    "header={\"User-agent\": \"curl/7.43.0\",'Accept': 'application/json','user-key':user_key}\n",
    "cp_entity_id=104\n",
    "cp_entity_type='subzone'\n",
    "cuisine_id=73\n",
    "params={'entry_id':cp_entity_id, 'entity_type':cp_entity_type, 'sort':'rating', 'cuisines':cuisine_id, 'count':10}\n",
    "response=requests.get(basic_api+'/search',headers=header,params=params)\n",
    "for i in response.json().get('restaurants'):\n",
    "    print(i.get('restaurant').get('name'), i.get('restaurant').get('user_rating').get('aggregate_rating'),\n",
    "         i.get('restaurant').get('R').get('res_id'))\n"
   ]
  },
  {
   "cell_type": "markdown",
   "id": "aa279a27",
   "metadata": {},
   "source": [
    "# Question :"
   ]
  },
  {
   "cell_type": "markdown",
   "id": "fa9df0ea",
   "metadata": {},
   "source": [
    "Fetch the category id of category type ‘Cafes’ using Zomato API.\n",
    "Print the category_id."
   ]
  },
  {
   "cell_type": "code",
   "execution_count": 4,
   "id": "31d422d0",
   "metadata": {},
   "outputs": [
    {
     "name": "stdout",
     "output_type": "stream",
     "text": [
      "6\n"
     ]
    }
   ],
   "source": [
    "import requests\n",
    "import json\n",
    "user_key='0ab9b3ea3b2aa96bf4b2843fb711a48f'\n",
    "basic_api='https://developers.zomato.com/api/v2.1'\n",
    "header={\"User-agent\": \"curl/7.43.0\",'Accept': 'application/json','user-key':user_key}\n",
    "response=requests.get(basic_api+'/categories',headers=header)\n",
    "data=response.json()\n",
    "for i in data['categories']:\n",
    "    if i['categories']['name']=='Cafes':\n",
    "        print(i['categories']['id'])"
   ]
  },
  {
   "cell_type": "markdown",
   "id": "85c713f7",
   "metadata": {},
   "source": [
    "# Question : "
   ]
  },
  {
   "cell_type": "markdown",
   "id": "70565e19",
   "metadata": {},
   "source": [
    "Fetch the best-rated restaurant for ‘Mexican’ cuisine with category type ‘ Cafes’ present in Connaught Place using Zomato API.\n",
    "Print the restaurant name, user rating and restaurant id."
   ]
  },
  {
   "cell_type": "code",
   "execution_count": 5,
   "id": "c3c1a141",
   "metadata": {},
   "outputs": [
    {
     "name": "stdout",
     "output_type": "stream",
     "text": [
      "Xero Degrees 4.3 18729557\n",
      "The Art House Restaurant 3.9 18863766\n",
      "Cafe Coffee Day - The Square 3.6 303034\n"
     ]
    }
   ],
   "source": [
    "import requests\n",
    "import json\n",
    "user_key='0ab9b3ea3b2aa96bf4b2843fb711a48f'\n",
    "basic_api='https://developers.zomato.com/api/v2.1'\n",
    "params={'entity_id':104,\"entity_type\":'subzone','cuisines':'73', 'category' : '6'}\n",
    "header={\"User-agent\": \"curl/7.43.0\",'Accept': 'application/json','user-key':user_key}\n",
    "response=requests.get(basic_api+'/search',headers=header,params=params)\n",
    "data=response.json()\n",
    "for i in data['restaurants']:\n",
    "    print(i.get('restaurant').get('name'),i.get('restaurant').get('user_rating').get('aggregate_rating'),i.get('restaurant').get('R').get('res_id'))"
   ]
  },
  {
   "cell_type": "markdown",
   "id": "b14d6ada",
   "metadata": {},
   "source": [
    "# Question :"
   ]
  },
  {
   "cell_type": "markdown",
   "id": "1d62cc3c",
   "metadata": {},
   "source": [
    "Fetch the latest review of the best-rated restaurant for ‘Mexican’ cuisine with Category type ‘Cafes’ present in Connaught Place using Zomato API.\n",
    "Print the name of user ,user rating and review text.\n",
    "Note :\n",
    "Due to limitation of basic API plan it, can only fetch 5 latest review"
   ]
  },
  {
   "cell_type": "code",
   "execution_count": 6,
   "id": "21bbd368",
   "metadata": {},
   "outputs": [
    {
     "name": "stdout",
     "output_type": "stream",
     "text": [
      "Pratishtha Wadhwa 2 Very bad burger, no taste, just sauces and piece of paneer. Complete waste of money and mood.\n",
      "Moksh Saxena 3 The service is unmatched. The staff truly cares about your experience.\n",
      "Bishnu Patel 5 Innovative concept and good food! I recommend  > out this outlet and we ordered Peppy paneer pizza, grill sandwich, peri peri fries, cheese nachos, chicken drum pizza in a jar And special red velvet shake, nutrella shake, waffle. Result amazing and best ever place order delicious and tasty foods at affordable prices would like to highly recommend this amazing place to all. 😇😇 It’s a must visit place. ❤\n",
      "Rahul Patel 5 Visited my friend's place and and she suggests me to try out this outlet and we ordered Peppy paneer pizza, grill sandwich, peri peri fries, cheese nachos, chicken drum pizza in a jar And special red velvet shake, nutrella shake, waffle ..  I really liked the the delicious and hygienic foods. I would like to give them lots of thanks for their amazing and high rated services. 😊😊\n",
      "Deepak Gupta 5 I tried their Peppy paneer pizza, grill sandwich, peri peri fries, cheese nachos, chicken drum pizza in a jar And special red velvet shake, nutrella shake, waffle.  Seating area was good, maintained social distance and ambience was also nice. Staff was friendly and following proper safety guidelines. With reasonable prices, there was no compromise with quality..\n"
     ]
    }
   ],
   "source": [
    "import requests\n",
    "import json\n",
    "user_key='0ab9b3ea3b2aa96bf4b2843fb711a48f'\n",
    "basic_api='https://developers.zomato.com/api/v2.1'\n",
    "params={'res_id' : '18729557'}\n",
    "header={\"User-agent\": \"curl/7.43.0\",'Accept': 'application/json','user-key':user_key}\n",
    "response=requests.get(basic_api+'/reviews',headers=header,params=params)\n",
    "data=response.json()\n",
    "a=data['user_reviews']\n",
    "for i in a:\n",
    "    print(i.get('review').get('user').get('name'),i.get('review').get('rating'),i.get('review').get('review_text'))"
   ]
  },
  {
   "cell_type": "markdown",
   "id": "af0136fc",
   "metadata": {},
   "source": [
    "# Problem 2"
   ]
  },
  {
   "cell_type": "markdown",
   "id": "144e02fb",
   "metadata": {},
   "source": [
    "\"Pa Pa Ya\" is a modern Asian bistro & tapas bar from the House of Massive Restaurants and best described as a chic, modern and radical reinterpretation of Asian cuisine."
   ]
  },
  {
   "cell_type": "markdown",
   "id": "d8481284",
   "metadata": {},
   "source": [
    "You have heard from your friends that restaurant \"Pa Pa Ya\" in Delhi is quite good. So now you want to extract the information related to \"Pa Pa Ya\" using Zomato API."
   ]
  },
  {
   "cell_type": "markdown",
   "id": "96a940d6",
   "metadata": {},
   "source": [
    "There is a list of questions related to the restaurant given in the next section."
   ]
  },
  {
   "cell_type": "markdown",
   "id": "93220f01",
   "metadata": {},
   "source": [
    "# Question :"
   ]
  },
  {
   "cell_type": "markdown",
   "id": "32a74789",
   "metadata": {},
   "source": [
    "Fetch the details of \"Pa Pa Ya\" restaurant (ID: 18429148) using Zomato API.\n",
    "Print the user rating, the average cost for two, cuisines and address of \"Pa Pa Ya\" restaurant."
   ]
  },
  {
   "cell_type": "code",
   "execution_count": 7,
   "id": "093c1755",
   "metadata": {},
   "outputs": [
    {
     "name": "stdout",
     "output_type": "stream",
     "text": [
      "4.5\n",
      "2500\n",
      "Asian, Chinese, Thai, Japanese, Sushi, Malaysian, Momos, Beverages\n",
      "A-3, Select Citywalk, District Centre, Saket, New Delhi\n"
     ]
    }
   ],
   "source": [
    "import requests\n",
    "import json\n",
    "user_key='0ab9b3ea3b2aa96bf4b2843fb711a48f'\n",
    "basic_api='https://developers.zomato.com/api/v2.1'\n",
    "params={'entity_id': '1',\"entity_type\":'city','cuisines':'3', 'collection_id' : '58', 'category' : '11'}\n",
    "header={\"User-agent\": \"curl/7.43.0\",'Accept': 'application/json','user-key':user_key}\n",
    "response=requests.get(basic_api+'/search',headers=header,params=params)\n",
    "data=response.json()\n",
    "for i in data['restaurants']:\n",
    "    if i.get('restaurant').get('name') == \"Pa Pa Ya\":\n",
    "        print(i.get('restaurant').get('user_rating').get('aggregate_rating'))\n",
    "        print(i.get('restaurant').get('average_cost_for_two'))\n",
    "        print(i.get('restaurant').get('cuisines'))\n",
    "        print(i.get('restaurant').get('location').get('address'))"
   ]
  },
  {
   "cell_type": "markdown",
   "id": "e6239a17",
   "metadata": {},
   "source": [
    "# Question :"
   ]
  },
  {
   "cell_type": "markdown",
   "id": "7dcfa272",
   "metadata": {},
   "source": [
    "Find out whether online table reservation is supported in \"Pa Pa Ya\" restaurant or not using Zomato API.\n",
    "Print 'yes' if online table reservation is supported else 'no'\n",
    "Note :\n",
    "In Zomato response JSON. 1=Yes and 0 = No"
   ]
  },
  {
   "cell_type": "code",
   "execution_count": 8,
   "id": "0c9269b2",
   "metadata": {},
   "outputs": [
    {
     "name": "stdout",
     "output_type": "stream",
     "text": [
      "yes\n"
     ]
    }
   ],
   "source": [
    "import requests\n",
    "import json\n",
    "user_key='0ab9b3ea3b2aa96bf4b2843fb711a48f'\n",
    "basic_api='https://developers.zomato.com/api/v2.1'\n",
    "params={'res_id' : '18429148'}\n",
    "header={\"User-agent\": \"curl/7.43.0\",'Accept': 'application/json','user-key':user_key}\n",
    "response=requests.get(basic_api+'/restaurant',headers=header,params=params)\n",
    "data=response.json()\n",
    "i=data['is_table_reservation_supported']\n",
    "if i == 1:\n",
    "    print(\"yes\")\n",
    "else:\n",
    "    print(\"no\")\n",
    "        "
   ]
  },
  {
   "cell_type": "markdown",
   "id": "b214b290",
   "metadata": {},
   "source": [
    "# Question :"
   ]
  },
  {
   "cell_type": "markdown",
   "id": "e31e9587",
   "metadata": {},
   "source": [
    "Fetch the latest review of \"Pa Pa Ya\" restaurant using Zomato API.\n",
    "Print the name of the user, user rating and review text.\n",
    "Note :\n",
    "Due to the limitation of the basic API plan, it can only fetch 5 latest review"
   ]
  },
  {
   "cell_type": "code",
   "execution_count": 9,
   "id": "96130714",
   "metadata": {},
   "outputs": [
    {
     "name": "stdout",
     "output_type": "stream",
     "text": [
      "Karishma Tyagi 5 Loved the place would surely recommend.. The Asian cuisine theme restaurant, lovely ambience, service, everything was on point. They are serving Amazing mocktails Exotica, and papaya🍹. The sushi tastes great here😍😍😍😍 something new I experienced was the papaya chunks they offer😍😍\n",
      "Gaurav Goswami 5 Great Experience!! Safe environment to dine in at these crucial times.  Well attended by the staff specially Vikram, Rajesh and Pankaj.\n",
      "VN 1 \n",
      "Simran Chopra 5 A really nice place with a really nice ambience and the service is also really nice. Love the food here.\n",
      "Kshitij Kirtikar 5 Went to pa pa ya today 14/4/2021 for lunch. I always make it a point to visit this outlet in saket New Delhi. The location is just amazing as it’s a rooftop. The food is always great and service is fantastic as well. Vikrant was serving us today and he is well informed and gave great service too\n"
     ]
    }
   ],
   "source": [
    "import requests\n",
    "import json\n",
    "user_key='0ab9b3ea3b2aa96bf4b2843fb711a48f'\n",
    "basic_api='https://developers.zomato.com/api/v2.1'\n",
    "params={'res_id' : '18429148', 'count' : 5}\n",
    "header={\"User-agent\": \"curl/7.43.0\",'Accept': 'application/json','user-key':user_key}\n",
    "response=requests.get(basic_api+'/reviews',headers=header,params=params)\n",
    "data=response.json()\n",
    "a=data['user_reviews']\n",
    "for i in a:\n",
    "    print(i.get('review').get('user').get('name'), i.get('review').get('rating'),i.get('review').get('review_text'))"
   ]
  },
  {
   "cell_type": "markdown",
   "id": "5c754c0b",
   "metadata": {},
   "source": [
    "# Problem 3"
   ]
  },
  {
   "cell_type": "markdown",
   "id": "43bdd397",
   "metadata": {},
   "source": [
    "Distance is also a very important factor while selecting a restaurant. Suppose you are at Coding Ninjas and you want to select the restaurant which is near to you using Zomato API."
   ]
  },
  {
   "cell_type": "markdown",
   "id": "5fbd5125",
   "metadata": {},
   "source": [
    "Note down the latitude and longitude of Coding Ninjas using Google Maps"
   ]
  },
  {
   "cell_type": "markdown",
   "id": "37e984b2",
   "metadata": {},
   "source": [
    "There is a list of questions related to restaurant near me given in the next section."
   ]
  },
  {
   "cell_type": "markdown",
   "id": "8ae68f78",
   "metadata": {},
   "source": [
    "# Question :"
   ]
  },
  {
   "cell_type": "markdown",
   "id": "7153c822",
   "metadata": {},
   "source": [
    "Fetch the cuisine_id of of cuisine ‘BBQ’ using Zomato API.\n",
    "Print the cuisine_id"
   ]
  },
  {
   "cell_type": "code",
   "execution_count": 10,
   "id": "cb6ed381",
   "metadata": {},
   "outputs": [
    {
     "name": "stdout",
     "output_type": "stream",
     "text": [
      "193\n"
     ]
    }
   ],
   "source": [
    "import requests\n",
    "import json\n",
    "user_key='0ab9b3ea3b2aa96bf4b2843fb711a48f'\n",
    "basic_api='https://developers.zomato.com/api/v2.1'\n",
    "params={'city_id' : 1}\n",
    "header={\"User-agent\": \"curl/7.43.0\",'Accept': 'application/json','user-key':user_key}\n",
    "response=requests.get(basic_api+'/cuisines',headers=header,params=params)\n",
    "cuisine_id=0\n",
    "for i in response.json().get('cuisines'):\n",
    "    if(i.get('cuisine').get('cuisine_name')=='BBQ'):\n",
    "        cuisine_id=i.get('cuisine').get('cuisine_id')\n",
    "print(cuisine_id)"
   ]
  },
  {
   "cell_type": "markdown",
   "id": "e4e1ddbe",
   "metadata": {},
   "source": [
    "# Question :"
   ]
  },
  {
   "cell_type": "markdown",
   "id": "26a84ee4",
   "metadata": {},
   "source": [
    "Fetch the list of the top 10 restaurants serving cuisine ‘BBQ’ which are nearest to Coding Ninjas.\n",
    "Print the restaurant name, user rating, restaurant id and locality in which restaurant is present."
   ]
  },
  {
   "cell_type": "code",
   "execution_count": 12,
   "id": "007dd91f",
   "metadata": {},
   "outputs": [
    {
     "name": "stdout",
     "output_type": "stream",
     "text": [
      "Tandoori Nights 0 19661940 Pitampura\n",
      "UBQ by Barbeque Nation 3.6 18889769 Netaji Subhash Place\n",
      "Barbeque Nation 4.1 9561 Netaji Subhash Place\n",
      "Amazings Kitchen 0 19370424 Prashant Vihar\n",
      "Anytime Chicken 0 19520153 Shalimar Bagh\n",
      "UBQ by Barbeque Nation 4.0 19082741 Lawrence Road\n",
      "Moet's Barbeque 0 19238917 Alipur\n",
      "BBQ Express By The Barbeque Company 3.9 19494102 Punjabi Bagh\n",
      "UBQ by Barbeque Nation 3.8 18889760 Rohini\n",
      "Barbeque Nation 4.0 18805412 Rohini\n"
     ]
    }
   ],
   "source": [
    "import requests\n",
    "import json\n",
    "user_key='0ab9b3ea3b2aa96bf4b2843fb711a48f'\n",
    "basic_api='https://developers.zomato.com/api/v2.1'\n",
    "params={'entity_id': '1',\"entity_type\":'city', 'q': 'BBQ','cuisines' : '193', 'count':'10','lat':28.697522,'lon':77.140681,'sort':'real_distance'}\n",
    "header={\"User-agent\": \"curl/7.43.0\",'Accept': 'application/json','user-key':user_key}\n",
    "response=requests.get(basic_api+'/search',headers=header,params=params)\n",
    "data=response.json()\n",
    "for i in data['restaurants']:\n",
    "    print(i.get('restaurant').get('name'), i.get('restaurant').get('user_rating').get('aggregate_rating'), i.get('restaurant').get('R').get('res_id'), i.get('restaurant').get('location').get('locality'))"
   ]
  },
  {
   "cell_type": "markdown",
   "id": "68f07280",
   "metadata": {},
   "source": [
    "# Question :"
   ]
  },
  {
   "cell_type": "markdown",
   "id": "1bc23a9e",
   "metadata": {},
   "source": [
    "Fetch the latest review of the restaurant serving cuisine ‘BBQ’ which is most nearest to Coding ninjas?\n",
    "Print the name of user ,user rating and review text.\n",
    "Note :\n",
    "Due to limitation of basic API plan it, can only fetch 5 latest review"
   ]
  },
  {
   "cell_type": "code",
   "execution_count": 14,
   "id": "6c85897e",
   "metadata": {},
   "outputs": [
    {
     "name": "stdout",
     "output_type": "stream",
     "text": [
      "Shivam Rana 1 \n",
      "Nikhil 1 Everything was great about this restaurant but giving it 1 star coz it's closed for ever now n zomato hasn't updated this on there app yet...\n",
      "Palak Gupta 1 Since morning i am trying to call them and they keep rejecting my call. What kind of service is this? Phone being busy is understandable but why would you reject the call?\n",
      "Garima Arora 5 Wow place for family .. friends or anyone i have enjoyed my family dinner food is superb with quality and service and staff was superb .. amamzingly attend  and serviced.. mouth watering food barbeque snacks dinner deserts 😍♥️\n",
      "ASHISH GUPTA 1 I went there because of the reviews and the food was pathetic. Go for pirates of grill. It will be worth it\n"
     ]
    }
   ],
   "source": [
    "import requests\n",
    "import json\n",
    "user_key='0ab9b3ea3b2aa96bf4b2843fb711a48f'\n",
    "basic_api='https://developers.zomato.com/api/v2.1'\n",
    "params={'res_id' : '18204820', 'count' : 5}\n",
    "header={\"User-agent\": \"curl/7.43.0\",'Accept': 'application/json','user-key':user_key}\n",
    "response=requests.get(basic_api+'/reviews',headers=header,params=params)\n",
    "data=response.json()\n",
    "a=data['user_reviews']\n",
    "for i in a:\n",
    "    print(i.get('review').get('user').get('name'), i.get('review').get('rating'),i.get('review').get('review_text'))"
   ]
  },
  {
   "cell_type": "markdown",
   "id": "d71b0a97",
   "metadata": {},
   "source": [
    "# Question :"
   ]
  },
  {
   "cell_type": "markdown",
   "id": "82310bb1",
   "metadata": {},
   "source": [
    "Experiment with the radius parameter that is present in ‘GET/search’. Fetch the list of top 10 best-restaurant present in a radius of 4 km of coding ninjas.\n",
    "Print the restaurant name, user rating, restaurant id and locality in which restaurant is present."
   ]
  },
  {
   "cell_type": "code",
   "execution_count": 15,
   "id": "79f57594",
   "metadata": {},
   "outputs": [
    {
     "name": "stdout",
     "output_type": "stream",
     "text": [
      "Indian Accent 4.9 2004 The Lodhi, Lodhi Road\n",
      "Kuremal Mohan Lal Kulfi Wale 4.9 303642 Chawri Bazar\n",
      "The Big Chill 4.9 1614 Khan Market\n",
      "Dum-Pukht - ITC Maurya 4.9 2744 ITC Maurya, Chanakyapuri\n",
      "The Big Chill 4.9 8244 Khan Market\n",
      "Natural Ice Cream 4.8 310143 Connaught Place\n",
      "The Big Chill Cafe 4.8 18919107 The Colonnade, Connaught Place\n",
      "The Big Chill 4.8 3192 DLF Avenue, Saket\n",
      "The Big Chill Cakery 4.8 18665943 Khan Market\n",
      "The Big Chill 4.8 301235 DLF Promenade Mall, Vasant Kunj\n"
     ]
    }
   ],
   "source": [
    "import requests\n",
    "import json\n",
    "user_key='0ab9b3ea3b2aa96bf4b2843fb711a48f'\n",
    "basic_api='https://developers.zomato.com/api/v2.1'\n",
    "params={'entity_id': '1',\"entity_type\":'city','count':'10','lat':28.697522,'lon':77.140681, 'radius' : 4,'sort':'rating'}\n",
    "header={\"User-agent\": \"curl/7.43.0\",'Accept': 'application/json','user-key':user_key}\n",
    "response=requests.get(basic_api+'/search',headers=header,params=params)\n",
    "data=response.json()\n",
    "for i in data['restaurants']:\n",
    "    print(i.get('restaurant').get('name'), i.get('restaurant').get('user_rating').get('aggregate_rating'), i.get('restaurant').get('R').get('res_id'), i.get('restaurant').get('location').get('locality'))\n",
    "    "
   ]
  },
  {
   "cell_type": "markdown",
   "id": "45047d24",
   "metadata": {},
   "source": [
    "Compare the location of the restaurant whether really they are in a distance of 4 km to Coding Ninjas. Find out whether these API radius feature is working or not.\n",
    "Print 'yes' if radius feature work else print 'no'.\n",
    "Note :\n",
    "Use google search to find whether restaurant lie in range of 4km or not."
   ]
  },
  {
   "cell_type": "code",
   "execution_count": 18,
   "id": "1d70e715",
   "metadata": {},
   "outputs": [
    {
     "name": "stdout",
     "output_type": "stream",
     "text": [
      "no\n"
     ]
    }
   ],
   "source": [
    "print(\"no\")"
   ]
  }
 ],
 "metadata": {
  "kernelspec": {
   "display_name": "Python 3",
   "language": "python",
   "name": "python3"
  },
  "language_info": {
   "codemirror_mode": {
    "name": "ipython",
    "version": 3
   },
   "file_extension": ".py",
   "mimetype": "text/x-python",
   "name": "python",
   "nbconvert_exporter": "python",
   "pygments_lexer": "ipython3",
   "version": "3.8.8"
  }
 },
 "nbformat": 4,
 "nbformat_minor": 5
}
